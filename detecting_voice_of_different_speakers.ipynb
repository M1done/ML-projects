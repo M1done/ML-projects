{
  "nbformat": 4,
  "nbformat_minor": 0,
  "metadata": {
    "colab": {
      "name": "detecting voice of different speakers.ipynb",
      "provenance": [],
      "authorship_tag": "ABX9TyNAVLS1ICE1u/TaVrGK7tpE"
    },
    "kernelspec": {
      "name": "python3",
      "display_name": "Python 3"
    }
  },
  "cells": [
    {
      "cell_type": "code",
      "metadata": {
        "id": "fPvp-KZP6lor",
        "colab": {
          "base_uri": "https://localhost:8080/",
          "height": 105
        },
        "outputId": "aa7b1a54-9cd7-46f7-e02d-2a83f8e66eb1"
      },
      "source": [
        "!pip install pydub"
      ],
      "execution_count": null,
      "outputs": [
        {
          "output_type": "stream",
          "text": [
            "Collecting pydub\n",
            "  Downloading https://files.pythonhosted.org/packages/7b/d1/fbfa79371a8cd9bb15c2e3c480d7e6e340ed5cc55005174e16f48418333a/pydub-0.24.1-py2.py3-none-any.whl\n",
            "Installing collected packages: pydub\n",
            "Successfully installed pydub-0.24.1\n"
          ],
          "name": "stdout"
        }
      ]
    },
    {
      "cell_type": "code",
      "metadata": {
        "id": "fYsRYy4F6vT8"
      },
      "source": [
        "!pip install librosa"
      ],
      "execution_count": null,
      "outputs": []
    },
    {
      "cell_type": "code",
      "metadata": {
        "id": "d8OoebW_Bvph",
        "colab": {
          "base_uri": "https://localhost:8080/",
          "height": 153
        },
        "outputId": "89dbb522-60c6-42a3-a33e-af0254127dd9"
      },
      "source": [
        "!apt install ffmpeg"
      ],
      "execution_count": null,
      "outputs": [
        {
          "output_type": "stream",
          "text": [
            "Reading package lists... Done\n",
            "Building dependency tree       \n",
            "Reading state information... Done\n",
            "ffmpeg is already the newest version (7:3.4.6-0ubuntu0.18.04.1).\n",
            "The following package was automatically installed and is no longer required:\n",
            "  libnvidia-common-440\n",
            "Use 'apt autoremove' to remove it.\n",
            "0 upgraded, 0 newly installed, 0 to remove and 33 not upgraded.\n"
          ],
          "name": "stdout"
        }
      ]
    },
    {
      "cell_type": "code",
      "metadata": {
        "id": "26Vf4Q_E5P5u"
      },
      "source": [
        "import sys \n",
        "import librosa\n",
        "import numpy as np\n",
        "import json\n",
        "import pydub\n",
        "from scipy.io import wavfile\n"
      ],
      "execution_count": null,
      "outputs": []
    },
    {
      "cell_type": "code",
      "metadata": {
        "id": "LNymYOXC6VBU"
      },
      "source": [
        "y,sr = librosa.load('test.wav',sr = 48000)\n",
        "for i in range(5):\n",
        "  y = np.concatenate((y,y),axis=0)\n",
        "wavfile.write('test1.wav',sr,y[:sr*4698])"
      ],
      "execution_count": null,
      "outputs": []
    },
    {
      "cell_type": "code",
      "metadata": {
        "id": "1TRkD_J_6XRI"
      },
      "source": [
        "fs = 16000\n",
        "names = ['speaker1','speaker2','speaker3','speaker4','speaker5','speaker6','speaker7','speaker8','speaker9']\n",
        "\n",
        "f = open('ResultAnalysis.json','r')\n",
        "Jsondata = json.load(f)\n",
        "\n",
        "for i in names:\n",
        "    globals()[i] = np.empty([0, ])\n",
        "dictionary = {}\n",
        "for i in names:\n",
        "  dictionary[i] = []\n"
      ],
      "execution_count": null,
      "outputs": []
    },
    {
      "cell_type": "code",
      "metadata": {
        "id": "Gkmso_VM70Bo"
      },
      "source": [
        "dictionary['speaker1']"
      ],
      "execution_count": null,
      "outputs": []
    },
    {
      "cell_type": "code",
      "metadata": {
        "id": "wvgOs6ux77E3"
      },
      "source": [
        "cnt = 0\n",
        "while cnt < len(Jsondata['speaker']):\n",
        "  seg = Jsondata['speaker'][cnt]['Segment_type']\n",
        "  conf = Jsondata['speaker'][cnt]['confidence_level']\n",
        "  if(seg != 'music' and seg != 'silence' and conf == 'Confident'):\n",
        "    dictionary[seg].append(cnt)\n",
        "  cnt += 1"
      ],
      "execution_count": null,
      "outputs": []
    },
    {
      "cell_type": "code",
      "metadata": {
        "id": "zM7GcJGf6XM1"
      },
      "source": [
        "data,sr = librosa.load('test1.wav',sr = 48000)\n"
      ],
      "execution_count": null,
      "outputs": []
    },
    {
      "cell_type": "code",
      "metadata": {
        "id": "g-mf7NZ08Ah0"
      },
      "source": [
        "for speaker in names:\n",
        "  j = 0\n",
        "  for i in range(len(dictionary[speaker])):\n",
        "    cnt = dictionary[speaker][i]\n",
        "    times = cnt - j\n",
        "    if(times == 0):\n",
        "      globals()[speaker] = np.concatenate((globals()[speaker],data[cnt*fs:(cnt+1)*fs]),axis=0)\n",
        "      continue\n",
        "    globals()[speaker] = np.concatenate((globals()[speaker], np.zeros((fs,times)).flatten()),axis=0)\n",
        "    globals()[speaker] = np.concatenate((globals()[speaker],data[cnt*fs:(cnt+1)*fs]),axis=0)\n",
        "    j = cnt+1\n",
        "  if(j < 4698):\n",
        "    times = 4698 - j\n",
        "    globals()[speaker] = np.concatenate((globals()[speaker], np.zeros((fs,times)).flatten()),axis=0)\n",
        "  break"
      ],
      "execution_count": null,
      "outputs": []
    },
    {
      "cell_type": "code",
      "metadata": {
        "id": "AoOsQ5Bi6XLb"
      },
      "source": [
        "def write(f,sr,x,normalized=True):\n",
        "  print('starting')\n",
        "  channels = 2 if(x.ndim == 2 and x.shape[1] == 2) else 1\n",
        "  if normalized:\n",
        "    y = np.int16(x*2 **15)\n",
        "  else:\n",
        "    y = np.int16(x)\n",
        "  song = pydub.AudioSegment(y.tobytes(),frame_rate = sr, sample_width = 2, channels = channels)\n",
        "  song.export(f, format = \"mp3\", bitrate = \"320k\")\n",
        "  print('end')\n"
      ],
      "execution_count": null,
      "outputs": []
    },
    {
      "cell_type": "code",
      "metadata": {
        "id": "UAX3kRrj6XIt",
        "colab": {
          "base_uri": "https://localhost:8080/",
          "height": 51
        },
        "outputId": "4385f04d-196b-4de7-b762-b940e00c9992"
      },
      "source": [
        "\n",
        "from tqdm import tqdm\n",
        "for i in tqdm(names):\n",
        "  audioDATA = globals()[i]\n",
        "  audioDATA = audioDATA.astype('float32')\n",
        "  if max(audioDATA)==1:\n",
        "    audioDATA = 32767*audioDATA\n",
        "  else:\n",
        "    audioDATA = 32768*audioDATA\n",
        "  audioDATA = audioDATA.astype('int16')\n",
        "  write('folder'  + '/' + i +'.mp3',fs,globals()[i])\n",
        "  break"
      ],
      "execution_count": null,
      "outputs": [
        {
          "output_type": "stream",
          "text": [
            "\r  0%|          | 0/9 [00:00<?, ?it/s]"
          ],
          "name": "stderr"
        },
        {
          "output_type": "stream",
          "text": [
            "starting\n",
            "end\n"
          ],
          "name": "stdout"
        }
      ]
    },
    {
      "cell_type": "code",
      "metadata": {
        "id": "HsZpkBXQDPWX"
      },
      "source": [
        "string = \"\"\n",
        "j=1\n",
        "for i in range(len(dictionary['speaker1'])):\n",
        "  if(j == dictionary['speaker1'][i]):\n",
        "    continue\n",
        "  string += 'volume=enable=\\'between(t,'\n",
        "  string += str(j) +','+ str(dictionary['speaker1'][i])\n",
        "  string += ')\\':volume=0, '\n",
        "  j = dictionary['speaker1'][i]+1\n",
        "\n",
        "string += 'volume=enable=\\'between(t,'\n",
        "string += str(j) +','+ str(4698)\n",
        "string += ')\\':volume=0, '\n",
        "j = dictionary['speaker1'][i]+1"
      ],
      "execution_count": null,
      "outputs": []
    },
    {
      "cell_type": "code",
      "metadata": {
        "id": "dEKoMAGYFT7w",
        "colab": {
          "base_uri": "https://localhost:8080/",
          "height": 171
        },
        "outputId": "ef9c3b5b-fea4-41ca-84a9-7af6019e0f57"
      },
      "source": [
        "string"
      ],
      "execution_count": null,
      "outputs": [
        {
          "output_type": "execute_result",
          "data": {
            "application/vnd.google.colaboratory.intrinsic": {
              "type": "string"
            },
            "text/plain": [
              "\"volume=enable='between(t,1,8)':volume=0, volume=enable='between(t,9,15)':volume=0, volume=enable='between(t,16,23)':volume=0, volume=enable='between(t,24,25)':volume=0, volume=enable='between(t,26,27)':volume=0, volume=enable='between(t,28,29)':volume=0, volume=enable='between(t,30,33)':volume=0, volume=enable='between(t,34,37)':volume=0, volume=enable='between(t,38,39)':volume=0, volume=enable='between(t,40,43)':volume=0, volume=enable='between(t,44,48)':volume=0, volume=enable='between(t,49,61)':volume=0, volume=enable='between(t,62,86)':volume=0, volume=enable='between(t,87,89)':volume=0, volume=enable='between(t,90,91)':volume=0, volume=enable='between(t,92,93)':volume=0, volume=enable='between(t,94,111)':volume=0, volume=enable='between(t,112,125)':volume=0, volume=enable='between(t,126,128)':volume=0, volume=enable='between(t,129,130)':volume=0, volume=enable='between(t,131,136)':volume=0, volume=enable='between(t,137,138)':volume=0, volume=enable='between(t,139,140)':volume=0, volume=enable='between(t,141,144)':volume=0, volume=enable='between(t,145,146)':volume=0, volume=enable='between(t,147,148)':volume=0, volume=enable='between(t,149,153)':volume=0, volume=enable='between(t,154,155)':volume=0, volume=enable='between(t,156,157)':volume=0, volume=enable='between(t,158,161)':volume=0, volume=enable='between(t,162,163)':volume=0, volume=enable='between(t,164,165)':volume=0, volume=enable='between(t,166,167)':volume=0, volume=enable='between(t,168,170)':volume=0, volume=enable='between(t,171,173)':volume=0, volume=enable='between(t,174,180)':volume=0, volume=enable='between(t,181,186)':volume=0, volume=enable='between(t,187,189)':volume=0, volume=enable='between(t,190,191)':volume=0, volume=enable='between(t,192,193)':volume=0, volume=enable='between(t,194,197)':volume=0, volume=enable='between(t,198,200)':volume=0, volume=enable='between(t,201,202)':volume=0, volume=enable='between(t,203,206)':volume=0, volume=enable='between(t,207,208)':volume=0, volume=enable='between(t,209,216)':volume=0, volume=enable='between(t,217,226)':volume=0, volume=enable='between(t,227,235)':volume=0, volume=enable='between(t,236,247)':volume=0, volume=enable='between(t,248,266)':volume=0, volume=enable='between(t,267,273)':volume=0, volume=enable='between(t,274,275)':volume=0, volume=enable='between(t,276,277)':volume=0, volume=enable='between(t,278,279)':volume=0, volume=enable='between(t,280,281)':volume=0, volume=enable='between(t,282,284)':volume=0, volume=enable='between(t,285,286)':volume=0, volume=enable='between(t,287,288)':volume=0, volume=enable='between(t,289,290)':volume=0, volume=enable='between(t,291,292)':volume=0, volume=enable='between(t,293,298)':volume=0, volume=enable='between(t,299,300)':volume=0, volume=enable='between(t,301,302)':volume=0, volume=enable='between(t,303,305)':volume=0, volume=enable='between(t,306,322)':volume=0, volume=enable='between(t,323,329)':volume=0, volume=enable='between(t,330,332)':volume=0, volume=enable='between(t,333,343)':volume=0, volume=enable='between(t,344,345)':volume=0, volume=enable='between(t,346,348)':volume=0, volume=enable='between(t,349,350)':volume=0, volume=enable='between(t,351,352)':volume=0, volume=enable='between(t,353,392)':volume=0, volume=enable='between(t,393,417)':volume=0, volume=enable='between(t,418,431)':volume=0, volume=enable='between(t,432,434)':volume=0, volume=enable='between(t,435,451)':volume=0, volume=enable='between(t,452,459)':volume=0, volume=enable='between(t,460,461)':volume=0, volume=enable='between(t,462,463)':volume=0, volume=enable='between(t,464,468)':volume=0, volume=enable='between(t,469,470)':volume=0, volume=enable='between(t,471,496)':volume=0, volume=enable='between(t,497,498)':volume=0, volume=enable='between(t,499,502)':volume=0, volume=enable='between(t,503,511)':volume=0, volume=enable='between(t,512,513)':volume=0, volume=enable='between(t,514,515)':volume=0, volume=enable='between(t,516,567)':volume=0, volume=enable='between(t,568,584)':volume=0, volume=enable='between(t,585,586)':volume=0, volume=enable='between(t,587,598)':volume=0, volume=enable='between(t,599,611)':volume=0, volume=enable='between(t,612,615)':volume=0, volume=enable='between(t,616,618)':volume=0, volume=enable='between(t,619,622)':volume=0, volume=enable='between(t,623,627)':volume=0, volume=enable='between(t,628,632)':volume=0, volume=enable='between(t,633,636)':volume=0, volume=enable='between(t,637,641)':volume=0, volume=enable='between(t,642,644)':volume=0, volume=enable='between(t,645,653)':volume=0, volume=enable='between(t,654,666)':volume=0, volume=enable='between(t,667,669)':volume=0, volume=enable='between(t,670,673)':volume=0, volume=enable='between(t,674,677)':volume=0, volume=enable='between(t,678,679)':volume=0, volume=enable='between(t,680,681)':volume=0, volume=enable='between(t,682,684)':volume=0, volume=enable='between(t,685,686)':volume=0, volume=enable='between(t,687,692)':volume=0, volume=enable='between(t,693,694)':volume=0, volume=enable='between(t,695,701)':volume=0, volume=enable='between(t,702,707)':volume=0, volume=enable='between(t,708,714)':volume=0, volume=enable='between(t,715,764)':volume=0, volume=enable='between(t,765,771)':volume=0, volume=enable='between(t,772,773)':volume=0, volume=enable='between(t,774,1288)':volume=0, volume=enable='between(t,1289,1292)':volume=0, volume=enable='between(t,1293,1294)':volume=0, volume=enable='between(t,1295,1296)':volume=0, volume=enable='between(t,1297,1298)':volume=0, volume=enable='between(t,1299,1300)':volume=0, volume=enable='between(t,1301,1308)':volume=0, volume=enable='between(t,1309,1312)':volume=0, volume=enable='between(t,1313,1315)':volume=0, volume=enable='between(t,1316,1320)':volume=0, volume=enable='between(t,1321,1323)':volume=0, volume=enable='between(t,1324,1328)':volume=0, volume=enable='between(t,1329,1339)':volume=0, volume=enable='between(t,1340,1344)':volume=0, volume=enable='between(t,1345,1346)':volume=0, volume=enable='between(t,1347,1348)':volume=0, volume=enable='between(t,1349,1350)':volume=0, volume=enable='between(t,1351,1804)':volume=0, volume=enable='between(t,1805,1807)':volume=0, volume=enable='between(t,1808,1848)':volume=0, volume=enable='between(t,1849,1854)':volume=0, volume=enable='between(t,1855,1862)':volume=0, volume=enable='between(t,1863,1878)':volume=0, volume=enable='between(t,1879,1880)':volume=0, volume=enable='between(t,1881,1888)':volume=0, volume=enable='between(t,1889,1895)':volume=0, volume=enable='between(t,1896,1899)':volume=0, volume=enable='between(t,1900,1901)':volume=0, volume=enable='between(t,1902,1919)':volume=0, volume=enable='between(t,1920,1926)':volume=0, volume=enable='between(t,1927,1932)':volume=0, volume=enable='between(t,1933,1937)':volume=0, volume=enable='between(t,1938,1939)':volume=0, volume=enable='between(t,1940,1943)':volume=0, volume=enable='between(t,1944,1945)':volume=0, volume=enable='between(t,1946,1956)':volume=0, volume=enable='between(t,1957,1966)':volume=0, volume=enable='between(t,1967,1971)':volume=0, volume=enable='between(t,1972,1975)':volume=0, volume=enable='between(t,1976,1977)':volume=0, volume=enable='between(t,1978,1979)':volume=0, volume=enable='between(t,1980,1992)':volume=0, volume=enable='between(t,1993,1996)':volume=0, volume=enable='between(t,1997,1998)':volume=0, volume=enable='between(t,1999,2002)':volume=0, volume=enable='between(t,2003,2005)':volume=0, volume=enable='between(t,2006,2007)':volume=0, volume=enable='between(t,2008,2010)':volume=0, volume=enable='between(t,2011,2012)':volume=0, volume=enable='between(t,2013,2014)':volume=0, volume=enable='between(t,2015,2016)':volume=0, volume=enable='between(t,2017,2018)':volume=0, volume=enable='between(t,2019,2021)':volume=0, volume=enable='between(t,2022,2023)':volume=0, volume=enable='between(t,2024,2025)':volume=0, volume=enable='between(t,2026,2028)':volume=0, volume=enable='between(t,2029,2033)':volume=0, volume=enable='between(t,2034,2054)':volume=0, volume=enable='between(t,2055,2058)':volume=0, volume=enable='between(t,2059,2062)':volume=0, volume=enable='between(t,2063,2067)':volume=0, volume=enable='between(t,2068,2069)':volume=0, volume=enable='between(t,2070,2080)':volume=0, volume=enable='between(t,2081,2118)':volume=0, volume=enable='between(t,2119,2130)':volume=0, volume=enable='between(t,2131,2212)':volume=0, volume=enable='between(t,2213,2217)':volume=0, volume=enable='between(t,2218,2219)':volume=0, volume=enable='between(t,2220,2223)':volume=0, volume=enable='between(t,2224,2227)':volume=0, volume=enable='between(t,2228,2230)':volume=0, volume=enable='between(t,2231,2245)':volume=0, volume=enable='between(t,2246,2254)':volume=0, volume=enable='between(t,2255,2274)':volume=0, volume=enable='between(t,2275,2294)':volume=0, volume=enable='between(t,2295,2629)':volume=0, volume=enable='between(t,2630,2637)':volume=0, volume=enable='between(t,2638,2641)':volume=0, volume=enable='between(t,2642,2644)':volume=0, volume=enable='between(t,2645,2652)':volume=0, volume=enable='between(t,2653,2660)':volume=0, volume=enable='between(t,2661,2664)':volume=0, volume=enable='between(t,2665,2667)':volume=0, volume=enable='between(t,2668,2669)':volume=0, volume=enable='between(t,2670,2675)':volume=0, volume=enable='between(t,2676,2678)':volume=0, volume=enable='between(t,2679,2686)':volume=0, volume=enable='between(t,2687,2712)':volume=0, volume=enable='between(t,2713,2718)':volume=0, volume=enable='between(t,2719,2722)':volume=0, volume=enable='between(t,2723,2727)':volume=0, volume=enable='between(t,2728,2729)':volume=0, volume=enable='between(t,2730,2749)':volume=0, volume=enable='between(t,2750,2760)':volume=0, volume=enable='between(t,2761,2769)':volume=0, volume=enable='between(t,2770,2775)':volume=0, volume=enable='between(t,2776,2782)':volume=0, volume=enable='between(t,2783,2802)':volume=0, volume=enable='between(t,2803,2851)':volume=0, volume=enable='between(t,2852,2890)':volume=0, volume=enable='between(t,2891,2898)':volume=0, volume=enable='between(t,2899,2902)':volume=0, volume=enable='between(t,2903,2904)':volume=0, volume=enable='between(t,2905,2939)':volume=0, volume=enable='between(t,2940,2951)':volume=0, volume=enable='between(t,2952,3448)':volume=0, volume=enable='between(t,3449,3474)':volume=0, volume=enable='between(t,3475,3484)':volume=0, volume=enable='between(t,3485,3510)':volume=0, volume=enable='between(t,3511,3561)':volume=0, volume=enable='between(t,3562,3587)':volume=0, volume=enable='between(t,3588,3651)':volume=0, volume=enable='between(t,3652,3655)':volume=0, volume=enable='between(t,3656,3657)':volume=0, volume=enable='between(t,3658,3666)':volume=0, volume=enable='between(t,3667,3676)':volume=0, volume=enable='between(t,3677,3719)':volume=0, volume=enable='between(t,3720,3889)':volume=0, volume=enable='between(t,3890,3895)':volume=0, volume=enable='between(t,3896,3906)':volume=0, volume=enable='between(t,3907,3909)':volume=0, volume=enable='between(t,3910,3912)':volume=0, volume=enable='between(t,3913,3926)':volume=0, volume=enable='between(t,3927,3945)':volume=0, volume=enable='between(t,3946,3954)':volume=0, volume=enable='between(t,3955,3957)':volume=0, volume=enable='between(t,3958,3982)':volume=0, volume=enable='between(t,3983,3986)':volume=0, volume=enable='between(t,3987,3991)':volume=0, volume=enable='between(t,3992,4118)':volume=0, volume=enable='between(t,4119,4132)':volume=0, volume=enable='between(t,4133,4140)':volume=0, volume=enable='between(t,4141,4158)':volume=0, volume=enable='between(t,4159,4162)':volume=0, volume=enable='between(t,4163,4177)':volume=0, volume=enable='between(t,4178,4179)':volume=0, volume=enable='between(t,4180,4187)':volume=0, volume=enable='between(t,4188,4412)':volume=0, volume=enable='between(t,4413,4414)':volume=0, volume=enable='between(t,4415,4419)':volume=0, volume=enable='between(t,4420,4434)':volume=0, volume=enable='between(t,4435,4451)':volume=0, volume=enable='between(t,4452,4506)':volume=0, volume=enable='between(t,4507,4509)':volume=0, volume=enable='between(t,4510,4597)':volume=0, volume=enable='between(t,4598,4614)':volume=0, volume=enable='between(t,4615,4616)':volume=0, volume=enable='between(t,4617,4621)':volume=0, volume=enable='between(t,4622,4626)':volume=0, volume=enable='between(t,4627,4651)':volume=0, volume=enable='between(t,4652,4661)':volume=0, volume=enable='between(t,4662,4677)':volume=0, volume=enable='between(t,4678,4679)':volume=0, volume=enable='between(t,4680,4698)':volume=0, \""
            ]
          },
          "metadata": {
            "tags": []
          },
          "execution_count": 36
        }
      ]
    },
    {
      "cell_type": "code",
      "metadata": {
        "id": "D4eoFYeB6XGn",
        "colab": {
          "base_uri": "https://localhost:8080/",
          "height": 377
        },
        "outputId": "0f5311b1-8208-4291-e19a-fbde3d5df04d"
      },
      "source": [
        "# !ffmpeg -i speaker1.mp3 -af string mod_speaker1.mp3\n",
        "\n",
        "import subprocess\n",
        "string = \"\"\n",
        "j=1\n",
        "for i in range(len(dictionary['speaker1'])):\n",
        "  if(j == dictionary['speaker1'][i]):\n",
        "    continue\n",
        "  string += 'volume=enable=\\'between(t,'\n",
        "  string += str(j) +','+ str(dictionary['speaker1'][i])\n",
        "  string += ')\\':volume=0, '\n",
        "  j = dictionary['speaker1'][i]+1\n",
        "\n",
        "string += 'volume=enable=\\'between(t,'\n",
        "string += str(j) +','+ str(4698)\n",
        "string += ')\\':volume=0, '\n",
        "j = dictionary['speaker1'][i]+1\n",
        "\n",
        "status,output = subprocess.getstatusoutput(\" ffmpeg -i speaker1.mp3 -af \" + string + \" mod_speaker1.mp3\")\n",
        "print (output)\n",
        "print(status)"
      ],
      "execution_count": null,
      "outputs": [
        {
          "output_type": "stream",
          "text": [
            "ffmpeg version 3.4.6-0ubuntu0.18.04.1 Copyright (c) 2000-2019 the FFmpeg developers\n",
            "  built with gcc 7 (Ubuntu 7.3.0-16ubuntu3)\n",
            "  configuration: --prefix=/usr --extra-version=0ubuntu0.18.04.1 --toolchain=hardened --libdir=/usr/lib/x86_64-linux-gnu --incdir=/usr/include/x86_64-linux-gnu --enable-gpl --disable-stripping --enable-avresample --enable-avisynth --enable-gnutls --enable-ladspa --enable-libass --enable-libbluray --enable-libbs2b --enable-libcaca --enable-libcdio --enable-libflite --enable-libfontconfig --enable-libfreetype --enable-libfribidi --enable-libgme --enable-libgsm --enable-libmp3lame --enable-libmysofa --enable-libopenjpeg --enable-libopenmpt --enable-libopus --enable-libpulse --enable-librubberband --enable-librsvg --enable-libshine --enable-libsnappy --enable-libsoxr --enable-libspeex --enable-libssh --enable-libtheora --enable-libtwolame --enable-libvorbis --enable-libvpx --enable-libwavpack --enable-libwebp --enable-libx265 --enable-libxml2 --enable-libxvid --enable-libzmq --enable-libzvbi --enable-omx --enable-openal --enable-opengl --enable-sdl2 --enable-libdc1394 --enable-libdrm --enable-libiec61883 --enable-chromaprint --enable-frei0r --enable-libopencv --enable-libx264 --enable-shared\n",
            "  libavutil      55. 78.100 / 55. 78.100\n",
            "  libavcodec     57.107.100 / 57.107.100\n",
            "  libavformat    57. 83.100 / 57. 83.100\n",
            "  libavdevice    57. 10.100 / 57. 10.100\n",
            "  libavfilter     6.107.100 /  6.107.100\n",
            "  libavresample   3.  7.  0 /  3.  7.  0\n",
            "  libswscale      4.  8.100 /  4.  8.100\n",
            "  libswresample   2.  9.100 /  2.  9.100\n",
            "  libpostproc    54.  7.100 / 54.  7.100\n",
            "Input #0, mp3, from 'speaker1.mp3':\n",
            "  Metadata:\n",
            "    encoder         : Lavf57.83.100\n",
            "  Duration: 01:19:54.08, start: 0.069063, bitrate: 160 kb/s\n",
            "    Stream #0:0: Audio: mp3, 16000 Hz, mono, s16p, 160 kb/s\n",
            "[NULL @ 0x55f05c400600] Unable to find a suitable output format for 'volume=enable=between(t,9,15):volume=0,'\n",
            "volume=enable=between(t,9,15):volume=0,: Invalid argument\n",
            "1\n"
          ],
          "name": "stdout"
        }
      ]
    }
  ]
}
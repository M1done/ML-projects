{
  "nbformat": 4,
  "nbformat_minor": 0,
  "metadata": {
    "colab": {
      "name": "poetry.ipynb",
      "provenance": [],
      "authorship_tag": "ABX9TyNKaVaanQT4DVh9ua62szcT",
      "include_colab_link": true
    },
    "kernelspec": {
      "name": "python3",
      "display_name": "Python 3"
    }
  },
  "cells": [
    {
      "cell_type": "markdown",
      "metadata": {
        "id": "view-in-github",
        "colab_type": "text"
      },
      "source": [
        "<a href=\"https://colab.research.google.com/github/M1done/poetry/blob/main/poetry.ipynb\" target=\"_parent\"><img src=\"https://colab.research.google.com/assets/colab-badge.svg\" alt=\"Open In Colab\"/></a>"
      ]
    },
    {
      "cell_type": "code",
      "metadata": {
        "id": "VBuW9Kk3T0BH",
        "colab": {
          "base_uri": "https://localhost:8080/",
          "height": 34
        },
        "outputId": "acfee662-eb8e-411d-a1ce-b190a0419127"
      },
      "source": [
        "import numpy as np\n",
        "import pandas as pd\n",
        "from keras.models import Sequential\n",
        "from keras.layers import Dense\n",
        "from keras.layers import Dropout\n",
        "from keras.layers import LSTM\n",
        "from keras.layers import RNN\n",
        "from keras.utils import np_utils\n"
      ],
      "execution_count": null,
      "outputs": [
        {
          "output_type": "stream",
          "text": [
            "Using TensorFlow backend.\n"
          ],
          "name": "stderr"
        }
      ]
    },
    {
      "cell_type": "code",
      "metadata": {
        "id": "BvT5CbdI8Nhz"
      },
      "source": [
        "\n",
        "text = (open(\"sonnets.txt\").read())\n",
        "text=text.lower()"
      ],
      "execution_count": null,
      "outputs": []
    },
    {
      "cell_type": "code",
      "metadata": {
        "id": "pSxbReCy80P1"
      },
      "source": [
        "characters = sorted(list(set(text)))\n",
        "\n",
        "n_to_char = {n:char for n, char in enumerate(characters)}\n",
        "char_to_n = {char:n for n, char in enumerate(characters)}"
      ],
      "execution_count": null,
      "outputs": []
    },
    {
      "cell_type": "code",
      "metadata": {
        "id": "CvSo78DV9wTO",
        "colab": {
          "base_uri": "https://localhost:8080/",
          "height": 663
        },
        "outputId": "a4a5be4e-a7de-4e6a-9c63-4c37d0030ec8"
      },
      "source": [
        "n_to_char"
      ],
      "execution_count": null,
      "outputs": [
        {
          "output_type": "execute_result",
          "data": {
            "text/plain": [
              "{0: '\\n',\n",
              " 1: ' ',\n",
              " 2: '!',\n",
              " 3: \"'\",\n",
              " 4: '(',\n",
              " 5: ')',\n",
              " 6: ',',\n",
              " 7: '-',\n",
              " 8: '.',\n",
              " 9: ':',\n",
              " 10: ';',\n",
              " 11: '?',\n",
              " 12: 'a',\n",
              " 13: 'b',\n",
              " 14: 'c',\n",
              " 15: 'd',\n",
              " 16: 'e',\n",
              " 17: 'f',\n",
              " 18: 'g',\n",
              " 19: 'h',\n",
              " 20: 'i',\n",
              " 21: 'j',\n",
              " 22: 'k',\n",
              " 23: 'l',\n",
              " 24: 'm',\n",
              " 25: 'n',\n",
              " 26: 'o',\n",
              " 27: 'p',\n",
              " 28: 'q',\n",
              " 29: 'r',\n",
              " 30: 's',\n",
              " 31: 't',\n",
              " 32: 'u',\n",
              " 33: 'v',\n",
              " 34: 'w',\n",
              " 35: 'x',\n",
              " 36: 'y',\n",
              " 37: 'z'}"
            ]
          },
          "metadata": {
            "tags": []
          },
          "execution_count": 4
        }
      ]
    },
    {
      "cell_type": "code",
      "metadata": {
        "id": "gr-s9rfZ81de"
      },
      "source": [
        "X = []\n",
        "Y = []\n",
        "length = len(text)\n",
        "seq_length = 100\n",
        "\n",
        "for i in range(0, length-seq_length, 1):\n",
        "    sequence = text[i:i + seq_length]\n",
        "    label =text[i + seq_length]\n",
        "    X.append([char_to_n[char] for char in sequence])\n",
        "    Y.append(char_to_n[label])"
      ],
      "execution_count": null,
      "outputs": []
    },
    {
      "cell_type": "code",
      "metadata": {
        "id": "zf2JOHUw82Ff"
      },
      "source": [
        "\n",
        "X_modified = np.reshape(X, (len(X), seq_length, 1))\n",
        "X_modified = X_modified / float(len(characters))\n",
        "Y_modified = np_utils.to_categorical(Y)"
      ],
      "execution_count": null,
      "outputs": []
    },
    {
      "cell_type": "code",
      "metadata": {
        "id": "j2Rm-lYf82ce"
      },
      "source": [
        "model = Sequential()\n",
        "model.add(LSTM(700, input_shape=(X_modified.shape[1], X_modified.shape[2]), return_sequences=True))\n",
        "model.add(Dropout(0.2))\n",
        "model.add(LSTM(700))\n",
        "model.add(Dropout(0.2))\n",
        "\n",
        "model.add(Dense(Y_modified.shape[1], activation='softmax'))\n",
        "\n",
        "model.compile(loss='categorical_crossentropy', optimizer='adam')"
      ],
      "execution_count": null,
      "outputs": []
    },
    {
      "cell_type": "code",
      "metadata": {
        "id": "zOQpd8v482u4"
      },
      "source": [
        "model.fit(X_modified, Y_modified, epochs=100, batch_size=50)\n",
        "\n",
        "model.save_weights('text_generator_gigantic.h5')"
      ],
      "execution_count": null,
      "outputs": []
    },
    {
      "cell_type": "code",
      "metadata": {
        "id": "Gxail8jn_IM0"
      },
      "source": [
        "model.load_weights('text_generator_700_0.2_700_0.2_100.h5')"
      ],
      "execution_count": null,
      "outputs": []
    },
    {
      "cell_type": "code",
      "metadata": {
        "id": "Kynz2S1tDCVS",
        "colab": {
          "base_uri": "https://localhost:8080/",
          "height": 163
        },
        "outputId": "bd3288db-77b3-4154-c48f-18e154cd9f1c"
      },
      "source": [
        "n_to_char[2813]"
      ],
      "execution_count": null,
      "outputs": [
        {
          "output_type": "error",
          "ename": "KeyError",
          "evalue": "ignored",
          "traceback": [
            "\u001b[0;31m---------------------------------------------------------------------------\u001b[0m",
            "\u001b[0;31mKeyError\u001b[0m                                  Traceback (most recent call last)",
            "\u001b[0;32m<ipython-input-21-1e73b0bd4a2b>\u001b[0m in \u001b[0;36m<module>\u001b[0;34m()\u001b[0m\n\u001b[0;32m----> 1\u001b[0;31m \u001b[0mn_to_char\u001b[0m\u001b[0;34m[\u001b[0m\u001b[0;36m2813\u001b[0m\u001b[0;34m]\u001b[0m\u001b[0;34m\u001b[0m\u001b[0;34m\u001b[0m\u001b[0m\n\u001b[0m",
            "\u001b[0;31mKeyError\u001b[0m: 2813"
          ]
        }
      ]
    },
    {
      "cell_type": "code",
      "metadata": {
        "id": "2bKBAJs18_LI"
      },
      "source": [
        "\n",
        "string_mapped = X[99]\n",
        "full_string = [n_to_char[value] for value in string_mapped]\n",
        "#print(full_string)\n",
        "# generating characters\n",
        "for i in range(400):\n",
        "    x = np.reshape(string_mapped,(1,len(string_mapped), 1))\n",
        "    x = x / float(len(characters))\n",
        "\n",
        "    pred_index = np.argmax(model.predict(x, verbose=0))\n",
        "    seq = [n_to_char[value] for value in string_mapped]\n",
        "    print(pred_index)\n",
        "    full_string.append(n_to_char[pred_index])\n",
        "\n",
        "    string_mapped.append(pred_index)\n",
        "    string_mapped = string_mapped[1:len(string_mapped)]"
      ],
      "execution_count": null,
      "outputs": []
    },
    {
      "cell_type": "code",
      "metadata": {
        "id": "Lqa5z42h9C4x",
        "colab": {
          "base_uri": "https://localhost:8080/",
          "height": 54
        },
        "outputId": "0e364e23-5f0c-4977-8dd9-7bdd47a0df7a"
      },
      "source": [
        "#combining text\n",
        "txt=\"\"\n",
        "for char in full_string:\n",
        "    txt = txt+char\n",
        "txt"
      ],
      "execution_count": null,
      "outputs": [
        {
          "output_type": "execute_result",
          "data": {
            "text/plain": [
              "' the riper should by time decease,\\n his tender heir might bear his memory:\\n but thou, contracted to thine own stain,\\n and both foo my sake laniig d doom thee,\\n who eveny poiet mart trink d with brane,\\n which eaves so thee i seas m nook maan,\\n wet dott thou sime s smnr smme smat dishoese,\\n nine stn thee ioving weth io such sort\\n foom hande hoouut to ma ali srinl weepe;\\n but mot my lives s pight, and thou desire\\n what you your sead what iide befinds to ce,\\n the wires ao most my saaren t roaaseng,\\n'"
            ]
          },
          "metadata": {
            "tags": []
          },
          "execution_count": 26
        }
      ]
    },
    {
      "cell_type": "code",
      "metadata": {
        "id": "qR2JV1s-9D1Z",
        "colab": {
          "base_uri": "https://localhost:8080/",
          "height": 425
        },
        "outputId": "6197c5be-82c9-4eb2-e40b-7a910de06504"
      },
      "source": [
        "for c in txt:\n",
        "  if c == '\\n':\n",
        "    print()\n",
        "  print(c, end=\"\")"
      ],
      "execution_count": null,
      "outputs": [
        {
          "output_type": "stream",
          "text": [
            " the riper should by time decease,\n",
            "\n",
            " his tender heir might bear his memory:\n",
            "\n",
            " but thou, contracted to thine own stain,\n",
            "\n",
            " and both foo my sake laniig d doom thee,\n",
            "\n",
            " who eveny poiet mart trink d with brane,\n",
            "\n",
            " which eaves so thee i seas m nook maan,\n",
            "\n",
            " wet dott thou sime s smnr smme smat dishoese,\n",
            "\n",
            " nine stn thee ioving weth io such sort\n",
            "\n",
            " foom hande hoouut to ma ali srinl weepe;\n",
            "\n",
            " but mot my lives s pight, and thou desire\n",
            "\n",
            " what you your sead what iide befinds to ce,\n",
            "\n",
            " the wires ao most my saaren t roaaseng,\n",
            "\n"
          ],
          "name": "stdout"
        }
      ]
    }
  ]
}